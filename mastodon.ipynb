{
 "cells": [
  {
   "cell_type": "code",
   "execution_count": null,
   "metadata": {},
   "outputs": [],
   "source": [
    "from mastodon import Mastodon"
   ]
  },
  {
   "cell_type": "code",
   "execution_count": null,
   "metadata": {},
   "outputs": [],
   "source": [
    "mastodon = Mastodon(\n",
    "    client_id=\"8b0oxs3...\",\n",
    "    client_secret=\"4KUeqW...\",\n",
    "    access_token=\"U1v7FZn...\",\n",
    "    api_base_url = 'https://social.juanlu.space',\n",
    ")"
   ]
  },
  {
   "cell_type": "code",
   "execution_count": null,
   "metadata": {},
   "outputs": [
    {
     "data": {
      "text/plain": [
       "{'id': 109273569697353149,\n",
       " 'username': 'astrojuanlu',\n",
       " 'acct': 'astrojuanlu',\n",
       " 'display_name': 'Juan Luis',\n",
       " 'locked': False,\n",
       " 'bot': False,\n",
       " 'discoverable': True,\n",
       " 'group': False,\n",
       " 'created_at': datetime.datetime(2022, 11, 2, 0, 0, tzinfo=tzlocal()),\n",
       " 'note': '<p>On a mission to accelerate the Solidarity Economy through technology ♻️</p><p>Product Manager and Developer Advocate by day, rants about bad UX in F/LOSS by night. In love with SciPy, PyData, and all things Python. Luddite. Trying to make a positive impact.</p><p>he/him/él</p><p>searchable <a href=\"https://social.juanlu.space/tags/fedi22\" class=\"mention hashtag\" rel=\"tag\">#<span>fedi22</span></a></p>',\n",
       " 'url': 'https://social.juanlu.space/@astrojuanlu',\n",
       " 'uri': 'https://social.juanlu.space/users/astrojuanlu',\n",
       " 'avatar': 'https://cdn.masto.host/socialjuanluspace/accounts/avatars/109/273/569/697/353/149/original/25d9571c803916cc.jpg',\n",
       " 'avatar_static': 'https://cdn.masto.host/socialjuanluspace/accounts/avatars/109/273/569/697/353/149/original/25d9571c803916cc.jpg',\n",
       " 'header': 'https://cdn.masto.host/socialjuanluspace/accounts/headers/109/273/569/697/353/149/original/fe3f2cbfb1bf36d1.jpg',\n",
       " 'header_static': 'https://cdn.masto.host/socialjuanluspace/accounts/headers/109/273/569/697/353/149/original/fe3f2cbfb1bf36d1.jpg',\n",
       " 'followers_count': 1476,\n",
       " 'following_count': 1428,\n",
       " 'statuses_count': 3464,\n",
       " 'last_status_at': datetime.datetime(2023, 10, 3, 0, 0),\n",
       " 'noindex': False,\n",
       " 'source': {'privacy': 'public',\n",
       "  'sensitive': False,\n",
       "  'language': None,\n",
       "  'note': 'On a mission to accelerate the Solidarity Economy through technology ♻️\\r\\n\\r\\nProduct Manager and Developer Advocate by day, rants about bad UX in F/LOSS by night. In love with SciPy, PyData, and all things Python. Luddite. Trying to make a positive impact.\\r\\n\\r\\nhe/him/él\\r\\n\\r\\nsearchable #fedi22',\n",
       "  'fields': [{'name': 'github',\n",
       "    'value': 'https://github.com/astrojuanlu/',\n",
       "    'verified_at': '2022-11-12T21:45:04.360+00:00'},\n",
       "   {'name': 'devto',\n",
       "    'value': 'https://dev.to/astrojuanlu',\n",
       "    'verified_at': '2023-08-17T14:34:04.673+00:00'},\n",
       "   {'name': 'kedro',\n",
       "    'value': 'https://github.com/kedro-org/kedro',\n",
       "    'verified_at': None},\n",
       "   {'name': 'interests', 'value': '#python', 'verified_at': None}],\n",
       "  'follow_requests_count': 0,\n",
       "  'hide_collections': False,\n",
       "  'discoverable': True,\n",
       "  'indexable': True},\n",
       " 'emojis': [],\n",
       " 'roles': [{'id': 3, 'name': 'Owner', 'color': ''}],\n",
       " 'fields': [{'name': 'github',\n",
       "   'value': '<a href=\"https://github.com/astrojuanlu/\" target=\"_blank\" rel=\"nofollow noopener noreferrer me\" translate=\"no\"><span class=\"invisible\">https://</span><span class=\"\">github.com/astrojuanlu/</span><span class=\"invisible\"></span></a>',\n",
       "   'verified_at': '2022-11-12T21:45:04.360+00:00'},\n",
       "  {'name': 'devto',\n",
       "   'value': '<a href=\"https://dev.to/astrojuanlu\" target=\"_blank\" rel=\"nofollow noopener noreferrer me\" translate=\"no\"><span class=\"invisible\">https://</span><span class=\"\">dev.to/astrojuanlu</span><span class=\"invisible\"></span></a>',\n",
       "   'verified_at': '2023-08-17T14:34:04.673+00:00'},\n",
       "  {'name': 'kedro',\n",
       "   'value': '<a href=\"https://github.com/kedro-org/kedro\" target=\"_blank\" rel=\"nofollow noopener noreferrer me\" translate=\"no\"><span class=\"invisible\">https://</span><span class=\"\">github.com/kedro-org/kedro</span><span class=\"invisible\"></span></a>',\n",
       "   'verified_at': None},\n",
       "  {'name': 'interests',\n",
       "   'value': '<a href=\"https://social.juanlu.space/tags/python\" class=\"mention hashtag\" rel=\"tag\">#<span>python</span></a>',\n",
       "   'verified_at': None}],\n",
       " 'role': {'id': 3,\n",
       "  'name': 'Owner',\n",
       "  'permissions': '1048575',\n",
       "  'color': '',\n",
       "  'highlighted': True}}"
      ]
     },
     "metadata": {},
     "output_type": "display_data"
    }
   ],
   "source": [
    "mastodon.me()"
   ]
  }
 ],
 "metadata": {
  "language_info": {
   "name": "python"
  },
  "orig_nbformat": 4
 },
 "nbformat": 4,
 "nbformat_minor": 2
}
